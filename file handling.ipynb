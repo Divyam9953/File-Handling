{
 "cells": [
  {
   "cell_type": "code",
   "execution_count": 182,
   "metadata": {},
   "outputs": [
    {
     "name": "stdout",
     "output_type": "stream",
     "text": [
      "File opened successfully\n"
     ]
    }
   ],
   "source": [
    "try:\n",
    "    fhand = open(\"C:/Users/Administrator/Desktop/Assignment2/Assignment2/Assignment2/weblog.txt\",'r')\n",
    "    print(\"File opened successfully\")\n",
    "except:\n",
    "    print(\"File not opened\")\n",
    "    exit()"
   ]
  },
  {
   "cell_type": "markdown",
   "metadata": {},
   "source": [
    "## Q1. Create a dictionary IP_Count where each key-value pair is IP-Address and its frequency in the entire file."
   ]
  },
  {
   "cell_type": "code",
   "execution_count": 649,
   "metadata": {},
   "outputs": [
    {
     "name": "stdout",
     "output_type": "stream",
     "text": [
      "{'10.128.2.1': 4257, '10.131.2.1': 1626, '10.130.2.1': 4056, '10.129.2.1': 1652, '10.131.0.1': 4198}\n"
     ]
    }
   ],
   "source": [
    "fhand = open(\"C:/Users/Administrator/Desktop/Assignment2/Assignment2/Assignment2/weblog.txt\",'r')\n",
    "IP_Count = {}\n",
    "unique=[]\n",
    "import re\n",
    "for line in fhand:\n",
    "    line=line.split()[0]\n",
    "    if re.findall('\\d{2}.\\d{3}.\\d.\\d',line):\n",
    "        unique.append(line)\n",
    "for ch in unique:\n",
    "    IP_Count[ch]=IP_Count.get(ch,0)+1\n",
    "    \n",
    "print(IP_Count)"
   ]
  },
  {
   "cell_type": "markdown",
   "metadata": {},
   "source": [
    "## Q2.Create a dictionary Daily_Stats where each key-value pair is Date (string containing only the date, without time) and number of actions carried out on that day."
   ]
  },
  {
   "cell_type": "code",
   "execution_count": 650,
   "metadata": {},
   "outputs": [
    {
     "name": "stdout",
     "output_type": "stream",
     "text": [
      "{'29/Nov/2017': 580, '30/Nov/2017': 2991, '01/Dec/2017': 468, '02/Dec/2017': 168, '03/Dec/2017': 105, '07/Nov/2017': 2, '08/Nov/2017': 106, '09/Nov/2017': 236, '10/Nov/2017': 64, '11/Nov/2017': 286, '12/Nov/2017': 338, '13/Nov/2017': 230, '14/Nov/2017': 150, '15/Nov/2017': 78, '16/Nov/2017': 384, '17/Nov/2017': 481, '18/Nov/2017': 96, '19/Nov/2017': 164, '20/Nov/2017': 58, '21/Nov/2017': 47, '22/Nov/2017': 60, '23/Nov/2017': 380, '24/Nov/2017': 94, '25/Nov/2017': 250, '26/Nov/2017': 179, '12/Dec/2017': 86, '13/Dec/2017': 133, '14/Dec/2017': 165, '15/Dec/2017': 100, '16/Dec/2017': 155, '17/Dec/2017': 92, '18/Dec/2017': 178, '19/Dec/2017': 55, '20/Dec/2017': 98, '21/Dec/2017': 72, '22/Dec/2017': 11, '23/Dec/2017': 43, '16/Jan/2018': 76, '17/Jan/2018': 29, '18/Jan/2018': 63, '29/Jan/2018': 5092, '15/Feb/2018': 20, '16/Feb/2018': 33, '17/Feb/2018': 65, '18/Feb/2018': 34, '19/Feb/2018': 32, '20/Feb/2018': 62, '21/Feb/2018': 110, '22/Feb/2018': 231, '23/Feb/2018': 127, '24/Feb/2018': 15, '25/Feb/2018': 139, '26/Feb/2018': 98, '27/Feb/2018': 83, '28/Feb/2018': 123, '01/Mar/2018': 31, '02/Mar/2018': 143}\n"
     ]
    }
   ],
   "source": [
    "fhand = open(\"C:/Users/Administrator/Desktop/Assignment2/Assignment2/Assignment2/weblog.txt\",'r')\n",
    "import re\n",
    "date=[]\n",
    "Daily_Stats={}\n",
    "for line in fhand:\n",
    "        line=line.split(':')[0]\n",
    "        if re.findall('[\\d{2}].+[a-zA-Z].+\\d{4}',line):\n",
    "            date.append(line.strip().split('[')[1])\n",
    "for ch in date:\n",
    "    Daily_Stats [ch]=Daily_Stats.get(ch,0)+1      \n",
    "print(Daily_Stats )      "
   ]
  },
  {
   "cell_type": "markdown",
   "metadata": {},
   "source": [
    "## Q3.Display the URL which has been accessed (either for submit or upload) for most number of times."
   ]
  },
  {
   "cell_type": "code",
   "execution_count": 651,
   "metadata": {},
   "outputs": [
    {
     "data": {
      "text/plain": [
       "(3298, '/login.php')"
      ]
     },
     "execution_count": 651,
     "metadata": {},
     "output_type": "execute_result"
    }
   ],
   "source": [
    "fhand = open(\"C:/Users/Administrator/Desktop/Assignment2/Assignment2/Assignment2/weblog.txt\",'r')\n",
    "url=[]\n",
    "URL_accessed={}\n",
    "for line in fhand:\n",
    "        line=line.split()[-3]\n",
    "        if len(line)>1:\n",
    "            url.append(line)\n",
    "for ch in url:\n",
    "    URL_accessed[ch]=URL_accessed.get(ch,0)+1\n",
    "\n",
    "max((v,k) for k, v in URL_accessed.items())"
   ]
  },
  {
   "cell_type": "markdown",
   "metadata": {},
   "source": [
    "## Q4.Display the total count of HTTP GET requests and HTTP POST requests"
   ]
  },
  {
   "cell_type": "code",
   "execution_count": 652,
   "metadata": {},
   "outputs": [
    {
     "name": "stdout",
     "output_type": "stream",
     "text": [
      "Total count for HTTP GET requests : 15098\n"
     ]
    }
   ],
   "source": [
    "fhand = open(\"C:/Users/Administrator/Desktop/Assignment2/Assignment2/Assignment2/weblog.txt\",'r')\n",
    "count_get=0\n",
    "for line in fhand:\n",
    "    if re.search('GET',line):\n",
    "        count_get+=1\n",
    "print('Total count for HTTP GET requests :',count_get)"
   ]
  },
  {
   "cell_type": "code",
   "execution_count": 653,
   "metadata": {},
   "outputs": [
    {
     "name": "stdout",
     "output_type": "stream",
     "text": [
      "Total count for HTTP POST requests : 682\n"
     ]
    }
   ],
   "source": [
    "fhand = open(\"C:/Users/Administrator/Desktop/Assignment2/Assignment2/Assignment2/weblog.txt\",'r')\n",
    "count_post=0\n",
    "for line in fhand:\n",
    "    if re.search('POST',line):\n",
    "        count_post+=1\n",
    "print('Total count for HTTP POST requests :',count_post)"
   ]
  },
  {
   "cell_type": "markdown",
   "metadata": {},
   "source": [
    "## Q5.Create a dictionary Status_Code where key is the status code, and value is a tuple consisting of a string stating meaning of the code and a number indicating the frequency of that code in the file."
   ]
  },
  {
   "cell_type": "code",
   "execution_count": 654,
   "metadata": {},
   "outputs": [
    {
     "name": "stdout",
     "output_type": "stream",
     "text": [
      "{'200': ('Success', 11330), '302': ('Requested resource has been temporarily moved', 3498), '304': ('File Not Modified (means, no update is required)', 658), '206': ('Partial content has been processed', 52), '404': ('File Not Found', 251)}\n"
     ]
    }
   ],
   "source": [
    "fhand = open(\"C:/Users/Administrator/Desktop/Assignment2/Assignment2/Assignment2/weblog.txt\",'r')\n",
    "code=[]\n",
    "for line in fhand:\n",
    "    if re.findall('[0-9]{3}$',line):\n",
    "        if len(line)>1:\n",
    "            code.append(line.split()[-1])\n",
    "a=[]\n",
    "for i in code:\n",
    "    if i=='200':\n",
    "        a.append('Success')\n",
    "    elif i=='302':\n",
    "        a.append('Requested resource has been temporarily moved')\n",
    "    elif i=='404':\n",
    "         a.append('File Not Found')\n",
    "    elif i=='304':\n",
    "        a.append('File Not Modified (means, no update is required)')\n",
    "    else:\n",
    "        a.append('Partial content has been processed')\n",
    "        \n",
    "temp_Code={}\n",
    "for ch in a:\n",
    "    temp_Code[ch]=temp_Code.get(ch,0)+1 \n",
    "    \n",
    "LTUP=[]\n",
    "for i in range(len(list(temp_Code.values()))):\n",
    "    LTUP.append((list(temp_Code.keys())[i],list(temp_Code.values())[i]))\n",
    "    \n",
    "Status_Code={'200':LTUP[0],'302':LTUP[1],'304':LTUP[2],'206':LTUP[3],'404':LTUP[4]}\n",
    "print(Status_Code)"
   ]
  },
  {
   "cell_type": "markdown",
   "metadata": {},
   "source": [
    "## Q6.Create a histogram (list of tuples) indicating number of actions carried out in an hour of a day"
   ]
  },
  {
   "cell_type": "code",
   "execution_count": 655,
   "metadata": {},
   "outputs": [
    {
     "data": {
      "image/png": "[encoded data removed]",
      "text/plain": [
       "<Figure size 720x576 with 1 Axes>"
      ]
     },
     "metadata": {
      "needs_background": "light"
     },
     "output_type": "display_data"
    }
   ],
   "source": [
    "fhand = open(\"C:/Users/Administrator/Desktop/Assignment2/Assignment2/Assignment2/weblog.txt\",'r')\n",
    "x=[]\n",
    "for line in fhand:\n",
    "    line=line.split()[1][13:15]\n",
    "    if re.findall('\\d{2}',line):\n",
    "        x.append(line)\n",
    "from collections import OrderedDict  \n",
    "  \n",
    "def group_list(lst):  \n",
    "    res =  [(el, lst.count(el)) for el in lst] \n",
    "    return list(OrderedDict(res).items()) \n",
    "f=group_list(x)\n",
    "\n",
    "#Plotting\n",
    "Hour = []\n",
    "frequency = []\n",
    "\n",
    "for i in range(len(f)):\n",
    "    word.append(f[i][0])\n",
    "    frequency.append(f[i][1])\n",
    "\n",
    "\n",
    "import numpy as np\n",
    "import matplotlib.pyplot as plt\n",
    "\n",
    "indices = np.arange(len(f))\n",
    "plt.figure(figsize=(10,8))\n",
    "plt.bar(indices, frequency, color='r')\n",
    "plt.xticks(indices, word, rotation='vertical')\n",
    "plt.xlabel('Time')\n",
    "plt.ylabel('Number of transactions')\n",
    "plt.tight_layout()\n",
    "plt.show()"
   ]
  },
  {
   "cell_type": "code",
   "execution_count": 631,
   "metadata": {},
   "outputs": [],
   "source": []
  },
  {
   "cell_type": "code",
   "execution_count": null,
   "metadata": {},
   "outputs": [],
   "source": []
  }
 ],
 "metadata": {
  "kernelspec": {
   "display_name": "Python 3",
   "language": "python",
   "name": "python3"
  },
  "language_info": {
   "codemirror_mode": {
    "name": "ipython",
    "version": 3
   },
   "file_extension": ".py",
   "mimetype": "text/x-python",
   "name": "python",
   "nbconvert_exporter": "python",
   "pygments_lexer": "ipython3",
   "version": "3.7.3"
  }
 },
 "nbformat": 4,
 "nbformat_minor": 2
}
